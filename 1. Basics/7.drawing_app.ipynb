{
 "cells": [
  {
   "cell_type": "code",
   "id": "initial_id",
   "metadata": {
    "collapsed": true,
    "ExecuteTime": {
     "end_time": "2024-10-03T21:50:48.101626Z",
     "start_time": "2024-10-03T21:50:48.098535Z"
    }
   },
   "source": [
    "import numpy as np\n",
    "import cv2"
   ],
   "outputs": [],
   "execution_count": 4
  },
  {
   "metadata": {
    "ExecuteTime": {
     "end_time": "2024-10-03T21:50:48.110970Z",
     "start_time": "2024-10-03T21:50:48.103638Z"
    }
   },
   "cell_type": "code",
   "source": [
    "# click callback\n",
    "def click(event, x, y, flags, param):\n",
    "\tglobal canvas, pressed\n",
    "\tif event == cv2.EVENT_LBUTTONDOWN:\n",
    "\t\tpressed = True\n",
    "\t\tcv2.circle(canvas,(x,y),radius,color,-1)\n",
    "\telif event == cv2.EVENT_MOUSEMOVE and pressed == True:\n",
    "\t\tcv2.circle(canvas,(x,y),radius,color,-1)\n",
    "\telif event == cv2.EVENT_LBUTTONUP:\n",
    "\t\tpressed = False"
   ],
   "id": "d7f7ac3f5fcd6390",
   "outputs": [],
   "execution_count": 5
  },
  {
   "metadata": {
    "ExecuteTime": {
     "end_time": "2024-10-03T21:50:53.935361Z",
     "start_time": "2024-10-03T21:50:48.111979Z"
    }
   },
   "cell_type": "code",
   "source": [
    "# Global variables\n",
    "canvas = np.ones([500,500,3],'uint8')*255\n",
    "radius = 3\n",
    "color = (0,255,0)\n",
    "pressed = False\n",
    "\n",
    "# window initialization and callback assignment\n",
    "cv2.namedWindow(\"canvas\")\n",
    "cv2.setMouseCallback(\"canvas\", click)\n",
    "\n",
    "# Forever draw loop\n",
    "while True:\n",
    "\n",
    "\tcv2.imshow(\"canvas\",canvas)\n",
    "\n",
    "\t# key capture every 1ms\n",
    "\tch = cv2.waitKey(1)\n",
    "\tif ch & 0xFF == ord('q'):\n",
    "\t\tbreak\n",
    "\telif ch & 0xFF == ord('b'):\n",
    "\t\tcolor = (255,0,0)\n",
    "\telif ch & 0xFF == ord('g'):\n",
    "\t\tcolor = (0,255,0)\n",
    "\telif ch & 0xFF == ord('r'):\n",
    "\t\tcolor = (0,0,255)\n",
    "\n",
    "cv2.destroyAllWindows()"
   ],
   "id": "fd93bec8cf1bc625",
   "outputs": [],
   "execution_count": 6
  },
  {
   "metadata": {
    "ExecuteTime": {
     "end_time": "2024-10-03T21:50:53.938648Z",
     "start_time": "2024-10-03T21:50:53.936368Z"
    }
   },
   "cell_type": "code",
   "source": "",
   "id": "53be950fa495b579",
   "outputs": [],
   "execution_count": 6
  }
 ],
 "metadata": {
  "kernelspec": {
   "display_name": "Python 3",
   "language": "python",
   "name": "python3"
  },
  "language_info": {
   "codemirror_mode": {
    "name": "ipython",
    "version": 2
   },
   "file_extension": ".py",
   "mimetype": "text/x-python",
   "name": "python",
   "nbconvert_exporter": "python",
   "pygments_lexer": "ipython2",
   "version": "2.7.6"
  }
 },
 "nbformat": 4,
 "nbformat_minor": 5
}
