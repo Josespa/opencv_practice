{
 "cells": [
  {
   "cell_type": "code",
   "id": "initial_id",
   "metadata": {
    "collapsed": true,
    "ExecuteTime": {
     "end_time": "2024-10-03T20:56:51.295349Z",
     "start_time": "2024-10-03T20:56:49.801262Z"
    }
   },
   "source": [
    "import cv2\n",
    "\n",
    "img = cv2.imread(\"../resources/images/cats.jpg\",1)\n",
    "cv2.imshow(\"Image\",img)\n",
    "cv2.waitKey(0)\n",
    "cv2.destroyAllWindows()"
   ],
   "outputs": [],
   "execution_count": 7
  },
  {
   "metadata": {},
   "cell_type": "markdown",
   "source": "## Scale",
   "id": "57ccbf3335e22e49"
  },
  {
   "metadata": {
    "ExecuteTime": {
     "end_time": "2024-10-03T20:56:55.383600Z",
     "start_time": "2024-10-03T20:56:51.296354Z"
    }
   },
   "cell_type": "code",
   "source": [
    "img_half = cv2.resize(img, (0,0), fx=0.5, fy=0.5)\n",
    "img_stretch = cv2.resize(img, (600,600))\n",
    "img_stretch_near = cv2.resize(img, (600,600), interpolation=cv2.INTER_NEAREST)\n",
    "\n",
    "cv2.imshow(\"Half\",img_half)\n",
    "cv2.imshow(\"Stretch\",img_stretch)\n",
    "cv2.imshow(\"Stretch near\",img_stretch_near)\n",
    "cv2.waitKey(0)\n",
    "cv2.destroyAllWindows()"
   ],
   "id": "5dd6c25a73f1455a",
   "outputs": [],
   "execution_count": 8
  },
  {
   "metadata": {},
   "cell_type": "markdown",
   "source": "## Rotation",
   "id": "9396995888c08b2a"
  },
  {
   "metadata": {
    "ExecuteTime": {
     "end_time": "2024-10-03T20:56:56.281774Z",
     "start_time": "2024-10-03T20:56:55.385114Z"
    }
   },
   "cell_type": "code",
   "source": [
    "M = cv2.getRotationMatrix2D((0,0), -30, 1)\n",
    "rotated = cv2.warpAffine(img, M, (img.shape[1], img.shape[0]))\n",
    "cv2.imshow(\"Rotated\",rotated)\n",
    "cv2.waitKey(0)\n",
    "cv2.destroyAllWindows()"
   ],
   "id": "9e46f4f119622dea",
   "outputs": [],
   "execution_count": 9
  },
  {
   "metadata": {
    "ExecuteTime": {
     "end_time": "2024-10-03T20:56:56.285364Z",
     "start_time": "2024-10-03T20:56:56.282779Z"
    }
   },
   "cell_type": "code",
   "source": "",
   "id": "9392d0c3b13b4d22",
   "outputs": [],
   "execution_count": 9
  }
 ],
 "metadata": {
  "kernelspec": {
   "display_name": "Python 3",
   "language": "python",
   "name": "python3"
  },
  "language_info": {
   "codemirror_mode": {
    "name": "ipython",
    "version": 2
   },
   "file_extension": ".py",
   "mimetype": "text/x-python",
   "name": "python",
   "nbconvert_exporter": "python",
   "pygments_lexer": "ipython2",
   "version": "2.7.6"
  }
 },
 "nbformat": 4,
 "nbformat_minor": 5
}
