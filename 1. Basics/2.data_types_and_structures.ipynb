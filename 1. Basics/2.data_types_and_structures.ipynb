{
 "cells": [
  {
   "cell_type": "code",
   "id": "initial_id",
   "metadata": {
    "collapsed": true,
    "ExecuteTime": {
     "end_time": "2024-10-03T19:52:28.005512Z",
     "start_time": "2024-10-03T19:52:27.886350Z"
    }
   },
   "source": [
    "import numpy as np\n",
    "import cv2"
   ],
   "outputs": [],
   "execution_count": 1
  },
  {
   "metadata": {
    "ExecuteTime": {
     "end_time": "2024-10-03T19:52:30.405302Z",
     "start_time": "2024-10-03T19:52:28.006520Z"
    }
   },
   "cell_type": "code",
   "source": [
    "black = np.zeros([150,200,1],'uint8')\n",
    "cv2.imshow(\"Black\",black)\n",
    "print(black[0,0,:])\n",
    "\n",
    "cv2.waitKey(0)\n",
    "cv2.destroyAllWindows()"
   ],
   "id": "fc15bc4e5565127a",
   "outputs": [
    {
     "name": "stdout",
     "output_type": "stream",
     "text": [
      "[0]\n"
     ]
    }
   ],
   "execution_count": 2
  },
  {
   "metadata": {
    "ExecuteTime": {
     "end_time": "2024-10-03T19:52:30.894483Z",
     "start_time": "2024-10-03T19:52:30.406310Z"
    }
   },
   "cell_type": "code",
   "source": [
    "ones = np.ones([150,200,3],'uint8')\n",
    "cv2.imshow(\"Ones\",ones)\n",
    "print(ones[0,0,:])\n",
    "\n",
    "cv2.waitKey(0)\n",
    "cv2.destroyAllWindows()"
   ],
   "id": "a0b765838e773967",
   "outputs": [
    {
     "name": "stdout",
     "output_type": "stream",
     "text": [
      "[1 1 1]\n"
     ]
    }
   ],
   "execution_count": 3
  },
  {
   "metadata": {
    "ExecuteTime": {
     "end_time": "2024-10-03T19:52:31.668245Z",
     "start_time": "2024-10-03T19:52:30.895024Z"
    }
   },
   "cell_type": "code",
   "source": [
    "white = np.ones([150,200,3],'uint16')\n",
    "white *= (2**16-1)\n",
    "cv2.imshow(\"White\",white)\n",
    "print(white[0,0,:])\n",
    "\n",
    "cv2.waitKey(0)\n",
    "cv2.destroyAllWindows()"
   ],
   "id": "7b7dc1f73a0b1ad1",
   "outputs": [
    {
     "name": "stdout",
     "output_type": "stream",
     "text": [
      "[65535 65535 65535]\n"
     ]
    }
   ],
   "execution_count": 4
  },
  {
   "metadata": {
    "ExecuteTime": {
     "end_time": "2024-10-03T19:52:32.660339Z",
     "start_time": "2024-10-03T19:52:31.669251Z"
    }
   },
   "cell_type": "code",
   "source": [
    "color = ones.copy()\n",
    "color[:,:] = (255,0,0)\n",
    "cv2.imshow(\"Blue\",color)\n",
    "print(color[0,0,:])\n",
    "\n",
    "cv2.waitKey(0)\n",
    "cv2.destroyAllWindows()"
   ],
   "id": "a1e38b82dbfe45e3",
   "outputs": [
    {
     "name": "stdout",
     "output_type": "stream",
     "text": [
      "[255   0   0]\n"
     ]
    }
   ],
   "execution_count": 5
  },
  {
   "metadata": {
    "ExecuteTime": {
     "end_time": "2024-10-03T19:52:32.664521Z",
     "start_time": "2024-10-03T19:52:32.662345Z"
    }
   },
   "cell_type": "code",
   "source": "",
   "id": "4a15cb388c308732",
   "outputs": [],
   "execution_count": 5
  }
 ],
 "metadata": {
  "kernelspec": {
   "display_name": "Python 3",
   "language": "python",
   "name": "python3"
  },
  "language_info": {
   "codemirror_mode": {
    "name": "ipython",
    "version": 2
   },
   "file_extension": ".py",
   "mimetype": "text/x-python",
   "name": "python",
   "nbconvert_exporter": "python",
   "pygments_lexer": "ipython2",
   "version": "2.7.6"
  }
 },
 "nbformat": 4,
 "nbformat_minor": 5
}
