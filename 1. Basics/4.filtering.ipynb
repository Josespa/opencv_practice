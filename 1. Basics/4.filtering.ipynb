{
 "cells": [
  {
   "cell_type": "code",
   "id": "initial_id",
   "metadata": {
    "collapsed": true,
    "ExecuteTime": {
     "end_time": "2024-10-03T20:28:09.963785Z",
     "start_time": "2024-10-03T20:28:05.318500Z"
    }
   },
   "source": [
    "import numpy as np\n",
    "import cv2\n",
    "\n",
    "img = cv2.imread(\"../resources/images/park.jpg\",1)\n",
    "cv2.imshow(\"Original\",img)\n",
    "cv2.waitKey(0)\n",
    "cv2.destroyAllWindows()"
   ],
   "outputs": [],
   "execution_count": 2
  },
  {
   "metadata": {
    "ExecuteTime": {
     "end_time": "2024-10-03T20:28:17.480727Z",
     "start_time": "2024-10-03T20:28:14.429999Z"
    }
   },
   "cell_type": "code",
   "source": [
    "blur = cv2.GaussianBlur(img, (5,55),0)\n",
    "cv2.imshow(\"Blur\",blur)\n",
    "cv2.waitKey(0)\n",
    "cv2.destroyAllWindows()"
   ],
   "id": "14f1e5131a726583",
   "outputs": [],
   "execution_count": 3
  },
  {
   "metadata": {
    "ExecuteTime": {
     "end_time": "2024-10-03T20:29:09.476515Z",
     "start_time": "2024-10-03T20:29:09.472741Z"
    }
   },
   "cell_type": "code",
   "source": "kernel = np.ones((5,5),'uint8')",
   "id": "5a00a84ee56603dd",
   "outputs": [],
   "execution_count": 4
  },
  {
   "metadata": {
    "ExecuteTime": {
     "end_time": "2024-10-03T20:29:14.308008Z",
     "start_time": "2024-10-03T20:29:12.191251Z"
    }
   },
   "cell_type": "code",
   "source": [
    "dilate = cv2.dilate(img,kernel,iterations=1)\n",
    "cv2.imshow(\"Dilate\",dilate)\n",
    "cv2.waitKey(0)\n",
    "cv2.destroyAllWindows()"
   ],
   "id": "1b092952649717c3",
   "outputs": [],
   "execution_count": 5
  },
  {
   "metadata": {
    "ExecuteTime": {
     "end_time": "2024-10-03T20:29:38.840942Z",
     "start_time": "2024-10-03T20:29:35.388964Z"
    }
   },
   "cell_type": "code",
   "source": [
    "erode = cv2.erode(img,kernel,iterations=1)\n",
    "cv2.imshow(\"Erode\",erode)\n",
    "cv2.waitKey(0)\n",
    "cv2.destroyAllWindows()"
   ],
   "id": "d621aa3b17e2b0df",
   "outputs": [],
   "execution_count": 6
  }
 ],
 "metadata": {
  "kernelspec": {
   "display_name": "Python 3",
   "language": "python",
   "name": "python3"
  },
  "language_info": {
   "codemirror_mode": {
    "name": "ipython",
    "version": 2
   },
   "file_extension": ".py",
   "mimetype": "text/x-python",
   "name": "python",
   "nbconvert_exporter": "python",
   "pygments_lexer": "ipython2",
   "version": "2.7.6"
  }
 },
 "nbformat": 4,
 "nbformat_minor": 5
}
