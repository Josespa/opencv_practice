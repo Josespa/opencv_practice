{
 "cells": [
  {
   "cell_type": "code",
   "id": "initial_id",
   "metadata": {
    "collapsed": true,
    "ExecuteTime": {
     "end_time": "2024-10-03T20:04:43.768216Z",
     "start_time": "2024-10-03T20:04:43.765424Z"
    }
   },
   "source": [
    "import numpy as np\n",
    "import cv2"
   ],
   "outputs": [],
   "execution_count": 29
  },
  {
   "metadata": {
    "ExecuteTime": {
     "end_time": "2024-10-03T20:04:45.956693Z",
     "start_time": "2024-10-03T20:04:43.769222Z"
    }
   },
   "cell_type": "code",
   "source": [
    "img = cv2.imread(\"../resources/images/park.jpg\", 1)\n",
    "cv2.imshow(\"Image\",img)\n",
    "cv2.moveWindow(\"Image\",0,0)\n",
    "\n",
    "cv2.waitKey(0)\n",
    "cv2.destroyAllWindows()"
   ],
   "id": "134995b5dd552b8f",
   "outputs": [],
   "execution_count": 30
  },
  {
   "metadata": {
    "ExecuteTime": {
     "end_time": "2024-10-03T20:04:45.961368Z",
     "start_time": "2024-10-03T20:04:45.957700Z"
    }
   },
   "cell_type": "code",
   "source": [
    "print(img.shape)\n",
    "height,width,channels = img.shape"
   ],
   "id": "6e4887497eebdb89",
   "outputs": [
    {
     "name": "stdout",
     "output_type": "stream",
     "text": [
      "(427, 640, 3)\n"
     ]
    }
   ],
   "execution_count": 31
  },
  {
   "metadata": {},
   "cell_type": "markdown",
   "source": "### Split img channels",
   "id": "57a1d1fe368bf8af"
  },
  {
   "metadata": {
    "ExecuteTime": {
     "end_time": "2024-10-03T20:04:45.986541Z",
     "start_time": "2024-10-03T20:04:45.975351Z"
    }
   },
   "cell_type": "code",
   "source": "b,g,r = cv2.split(img)",
   "id": "278c3c8f6980fb69",
   "outputs": [],
   "execution_count": 33
  },
  {
   "metadata": {
    "ExecuteTime": {
     "end_time": "2024-10-03T20:04:45.999315Z",
     "start_time": "2024-10-03T20:04:45.987547Z"
    }
   },
   "cell_type": "code",
   "source": "rgb_split = np.empty([height,width*3,3],'uint8')",
   "id": "1fcdb03bb2676eae",
   "outputs": [],
   "execution_count": 34
  },
  {
   "metadata": {
    "ExecuteTime": {
     "end_time": "2024-10-03T20:04:46.593241Z",
     "start_time": "2024-10-03T20:04:46.001234Z"
    }
   },
   "cell_type": "code",
   "source": [
    "rgb_split[:, 0:width] = cv2.merge([b,b,b])\n",
    "rgb_split[:, width:width*2] = cv2.merge([g,g,g])\n",
    "rgb_split[:, width*2:width*3] = cv2.merge([r,r,r])\n",
    "\n",
    "cv2.imshow(\"Channels\",rgb_split)\n",
    "cv2.moveWindow(\"Channels\",0,height)\n",
    "\n",
    "cv2.waitKey(0)\n",
    "cv2.destroyAllWindows()"
   ],
   "id": "f6a67f218a466c71",
   "outputs": [],
   "execution_count": 35
  },
  {
   "metadata": {},
   "cell_type": "markdown",
   "source": "### Split HSV",
   "id": "58d6845a896f17fe"
  },
  {
   "metadata": {
    "ExecuteTime": {
     "end_time": "2024-10-03T20:12:10.717422Z",
     "start_time": "2024-10-03T20:12:05.251597Z"
    }
   },
   "cell_type": "code",
   "source": [
    "hsv = cv2.cvtColor(img, cv2.COLOR_BGR2HSV)\n",
    "h,s,v = cv2.split(hsv)\n",
    "hsv_split = np.concatenate((h,s,v),axis=1)\n",
    "cv2.imshow(\"Split HSV\",hsv_split)\n",
    "\n",
    "cv2.waitKey(0)\n",
    "cv2.destroyAllWindows()"
   ],
   "id": "7373b3c62a012175",
   "outputs": [],
   "execution_count": 37
  },
  {
   "metadata": {},
   "cell_type": "markdown",
   "source": "### Pixel manipulation and filtering",
   "id": "b088d2298ca9e48"
  },
  {
   "metadata": {
    "ExecuteTime": {
     "end_time": "2024-10-03T20:19:55.825134Z",
     "start_time": "2024-10-03T20:19:53.759785Z"
    }
   },
   "cell_type": "code",
   "source": [
    "cv2.imshow(\"Original image\",img)\n",
    "cv2.waitKey(0)\n",
    "cv2.destroyAllWindows()"
   ],
   "id": "b1cebfb4a7ea77ec",
   "outputs": [],
   "execution_count": 45
  },
  {
   "metadata": {
    "ExecuteTime": {
     "end_time": "2024-10-03T20:19:57.886207Z",
     "start_time": "2024-10-03T20:19:56.283271Z"
    }
   },
   "cell_type": "code",
   "source": [
    "gray = cv2.cvtColor(img, cv2.COLOR_RGB2GRAY)\n",
    "cv2.imshow(\"Gray\",gray)\n",
    "cv2.waitKey(0)\n",
    "cv2.destroyAllWindows()"
   ],
   "id": "6698ebc7a0befd4",
   "outputs": [],
   "execution_count": 46
  },
  {
   "metadata": {
    "ExecuteTime": {
     "end_time": "2024-10-03T20:20:00.298311Z",
     "start_time": "2024-10-03T20:19:58.356645Z"
    }
   },
   "cell_type": "code",
   "source": [
    "b = img[:,:,0]\n",
    "g = img[:,:,1]\n",
    "r = img[:,:,2]\n",
    "rgba = cv2.merge((b,g,r,g))\n",
    "cv2.imshow(\"RGBA\",rgba)\n",
    "cv2.waitKey(0)\n",
    "cv2.destroyAllWindows()"
   ],
   "id": "78619fc923888b00",
   "outputs": [],
   "execution_count": 47
  },
  {
   "metadata": {},
   "cell_type": "markdown",
   "source": "### Visualizing the different color channels of an RGB image.",
   "id": "2abc85181f9d8932"
  },
  {
   "metadata": {
    "ExecuteTime": {
     "end_time": "2024-10-03T21:08:26.389443Z",
     "start_time": "2024-10-03T21:08:23.772502Z"
    }
   },
   "cell_type": "code",
   "source": [
    "image_path = \"../resources/images/rgb_visualization.png\"\n",
    "# To read image\n",
    "img = cv2.imread(image_path, cv2.IMREAD_COLOR)\n",
    "B, G, R = cv2.split(img) \n",
    "# Corresponding channels are separated \n",
    "  \n",
    "cv2.imshow(\"original\", img) \n",
    "cv2.waitKey(0) \n",
    "  \n",
    "cv2.imshow(\"blue\", B) \n",
    "cv2.waitKey(0) \n",
    "  \n",
    "cv2.imshow(\"Green\", G) \n",
    "cv2.waitKey(0) \n",
    "  \n",
    "cv2.imshow(\"red\", R) \n",
    "cv2.waitKey(0) \n",
    "  \n",
    "cv2.destroyAllWindows() "
   ],
   "id": "e5b0839fe00ddcbd",
   "outputs": [],
   "execution_count": 48
  },
  {
   "metadata": {},
   "cell_type": "code",
   "outputs": [],
   "execution_count": null,
   "source": "",
   "id": "ffe967622f1ebdbf"
  }
 ],
 "metadata": {
  "kernelspec": {
   "display_name": "Python 3",
   "language": "python",
   "name": "python3"
  },
  "language_info": {
   "codemirror_mode": {
    "name": "ipython",
    "version": 2
   },
   "file_extension": ".py",
   "mimetype": "text/x-python",
   "name": "python",
   "nbconvert_exporter": "python",
   "pygments_lexer": "ipython2",
   "version": "2.7.6"
  }
 },
 "nbformat": 4,
 "nbformat_minor": 5
}
