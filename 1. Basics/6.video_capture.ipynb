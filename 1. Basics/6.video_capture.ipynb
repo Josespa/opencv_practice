{
 "cells": [
  {
   "cell_type": "code",
   "id": "initial_id",
   "metadata": {
    "collapsed": true,
    "ExecuteTime": {
     "end_time": "2024-10-03T21:50:59.214921Z",
     "start_time": "2024-10-03T21:50:59.087387Z"
    }
   },
   "source": "import cv2",
   "outputs": [],
   "execution_count": 1
  },
  {
   "metadata": {
    "ExecuteTime": {
     "end_time": "2024-10-03T21:51:07.014224Z",
     "start_time": "2024-10-03T21:50:59.215931Z"
    }
   },
   "cell_type": "code",
   "source": [
    "cap = cv2.VideoCapture(0)\n",
    "while(True):\n",
    "\tret, frame = cap.read()\n",
    "\n",
    "\tframe = cv2.resize(frame, (0,0), fx=1.5,fy=1.5)\n",
    "\tcv2.imshow(\"Frame\",frame)\n",
    "\n",
    "\tch = cv2.waitKey(1)\n",
    "\tif ch & 0xFF == ord('q'):\n",
    "\t\tbreak\n",
    "\n",
    "cap.release()\n",
    "cv2.destroyAllWindows()"
   ],
   "id": "5d2b1003871f78c5",
   "outputs": [],
   "execution_count": 2
  },
  {
   "metadata": {},
   "cell_type": "markdown",
   "source": "## Custom interface",
   "id": "4674833a6dc41734"
  },
  {
   "metadata": {
    "ExecuteTime": {
     "end_time": "2024-10-03T21:51:40.176486Z",
     "start_time": "2024-10-03T21:51:35.283860Z"
    }
   },
   "cell_type": "code",
   "source": [
    "cap = cv2.VideoCapture(0)\n",
    "color = (0,255,0)\n",
    "line_width = 3\n",
    "radius = 100\n",
    "point = (0,0)\n",
    "\n",
    "def click(event, x, y, flags, param):\n",
    "\tglobal point, pressed\n",
    "\tif event == cv2.EVENT_LBUTTONDOWN:\n",
    "\t\tprint(\"Pressed\",x,y)\n",
    "\t\tpoint = (x,y)\n",
    "\n",
    "cv2.namedWindow(\"Frame\")\n",
    "cv2.setMouseCallback(\"Frame\",click)\n",
    "\n",
    "while(True):\n",
    "\tret, frame = cap.read()\n",
    "\n",
    "\tframe = cv2.resize(frame, (0,0), fx=0.7,fy=0.7)\n",
    "\tcv2.circle(frame, point, radius, color, line_width)\n",
    "\tcv2.imshow(\"Frame\",frame)\n",
    "\n",
    "\tch = cv2.waitKey(1)\n",
    "\tif ch & 0xFF == ord('q'):\n",
    "\t\tbreak\n",
    "\n",
    "cap.release()\n",
    "cv2.destroyAllWindows()"
   ],
   "id": "27bdbcad077dded2",
   "outputs": [
    {
     "name": "stdout",
     "output_type": "stream",
     "text": [
      "Pressed 376 210\n",
      "Pressed 287 181\n"
     ]
    }
   ],
   "execution_count": 5
  },
  {
   "metadata": {
    "ExecuteTime": {
     "end_time": "2024-10-03T21:51:33.837547Z",
     "start_time": "2024-10-03T21:51:33.834921Z"
    }
   },
   "cell_type": "code",
   "source": "",
   "id": "53bd579f4247f60c",
   "outputs": [],
   "execution_count": 4
  }
 ],
 "metadata": {
  "kernelspec": {
   "display_name": "Python 3",
   "language": "python",
   "name": "python3"
  },
  "language_info": {
   "codemirror_mode": {
    "name": "ipython",
    "version": 2
   },
   "file_extension": ".py",
   "mimetype": "text/x-python",
   "name": "python",
   "nbconvert_exporter": "python",
   "pygments_lexer": "ipython2",
   "version": "2.7.6"
  }
 },
 "nbformat": 4,
 "nbformat_minor": 5
}
