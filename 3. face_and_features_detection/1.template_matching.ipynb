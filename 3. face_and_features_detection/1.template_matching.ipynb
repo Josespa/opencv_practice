{
 "cells": [
  {
   "cell_type": "code",
   "id": "initial_id",
   "metadata": {
    "collapsed": true,
    "ExecuteTime": {
     "end_time": "2024-10-10T17:55:54.482106Z",
     "start_time": "2024-10-10T17:55:54.363839Z"
    }
   },
   "source": "import cv2",
   "outputs": [],
   "execution_count": 3
  },
  {
   "metadata": {
    "ExecuteTime": {
     "end_time": "2024-10-10T17:55:59.710831Z",
     "start_time": "2024-10-10T17:55:55.184728Z"
    }
   },
   "cell_type": "code",
   "source": [
    "img = cv2.imread(\"../resources/images/tomatoes.jpg\")\n",
    "cv2.imshow(\"Frame\",img)\n",
    "cv2.waitKey(0)\n",
    "cv2.destroyAllWindows()"
   ],
   "id": "833d0748f8ecfbc8",
   "outputs": [],
   "execution_count": 4
  },
  {
   "metadata": {},
   "cell_type": "markdown",
   "source": "### Crop a tomato and save it",
   "id": "d3658f80147488ae"
  },
  {
   "metadata": {
    "ExecuteTime": {
     "end_time": "2024-10-10T17:56:42.727184Z",
     "start_time": "2024-10-10T17:56:40.245459Z"
    }
   },
   "cell_type": "code",
   "source": [
    "# Cropping an image\n",
    "cropped_image = img[190:300, 280:390]\n",
    "\n",
    "cv2.imshow(\"Tomato\", cropped_image)\n",
    " \n",
    "# Save the cropped image\n",
    "cv2.imwrite(\"../resources/images/template_tomato.jpg\", cropped_image)\n",
    "cv2.waitKey(0)\n",
    "cv2.destroyAllWindows()"
   ],
   "id": "9de6fbc508bd6b84",
   "outputs": [],
   "execution_count": 6
  },
  {
   "metadata": {},
   "cell_type": "markdown",
   "source": "## Load template in gray scale",
   "id": "d590e86574e25cf"
  },
  {
   "metadata": {
    "ExecuteTime": {
     "end_time": "2024-10-10T17:59:50.944369Z",
     "start_time": "2024-10-10T17:59:49.730362Z"
    }
   },
   "cell_type": "code",
   "source": [
    "template = cv2.imread(\"../resources/images/template_tomato.jpg\",0)\n",
    "cv2.imshow(\"Template\",template)\n",
    "cv2.waitKey(0)\n",
    "cv2.destroyAllWindows()"
   ],
   "id": "15b21d682e94eb19",
   "outputs": [],
   "execution_count": 12
  },
  {
   "metadata": {
    "ExecuteTime": {
     "end_time": "2024-10-10T17:59:53.359847Z",
     "start_time": "2024-10-10T17:59:52.269691Z"
    }
   },
   "cell_type": "code",
   "source": [
    "frame = cv2.imread(\"../resources/images/tomatoes.jpg\",0)\n",
    "cv2.imshow(\"Tomatoes\",frame)\n",
    "cv2.waitKey(0)\n",
    "cv2.destroyAllWindows()"
   ],
   "id": "a3711fd961a19b20",
   "outputs": [],
   "execution_count": 13
  },
  {
   "metadata": {
    "ExecuteTime": {
     "end_time": "2024-10-10T17:59:56.343836Z",
     "start_time": "2024-10-10T17:59:53.998280Z"
    }
   },
   "cell_type": "code",
   "source": [
    "result = cv2.matchTemplate(frame, template, cv2.TM_CCOEFF_NORMED)\n",
    "\n",
    "min_val, max_val, min_loc, max_loc = cv2.minMaxLoc(result)\n",
    "print(max_val,max_loc)\n",
    "cv2.circle(result,max_loc, 15,255,2)\n",
    "cv2.imshow(\"Matching\",result)\n",
    "\n",
    "cv2.waitKey(0)\n",
    "cv2.destroyAllWindows()"
   ],
   "id": "8c04d1c6a6ea759",
   "outputs": [
    {
     "name": "stdout",
     "output_type": "stream",
     "text": [
      "0.999504029750824 (280, 190)\n"
     ]
    }
   ],
   "execution_count": 14
  },
  {
   "metadata": {},
   "cell_type": "code",
   "outputs": [],
   "execution_count": null,
   "source": "",
   "id": "7fed85497ee47ffe"
  }
 ],
 "metadata": {
  "kernelspec": {
   "display_name": "Python 3",
   "language": "python",
   "name": "python3"
  },
  "language_info": {
   "codemirror_mode": {
    "name": "ipython",
    "version": 2
   },
   "file_extension": ".py",
   "mimetype": "text/x-python",
   "name": "python",
   "nbconvert_exporter": "python",
   "pygments_lexer": "ipython2",
   "version": "2.7.6"
  }
 },
 "nbformat": 4,
 "nbformat_minor": 5
}
