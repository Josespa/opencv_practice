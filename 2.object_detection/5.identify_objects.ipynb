{
 "cells": [
  {
   "metadata": {},
   "cell_type": "markdown",
   "source": [
    "## Identify Objects in an image\n",
    "- Draw large objects which have an area of larger than 1,000 squared pixels. \n",
    "- each object needs to have its own color. "
   ],
   "id": "76046153afb7a7ca"
  },
  {
   "metadata": {
    "ExecuteTime": {
     "end_time": "2024-10-10T17:24:54.875625Z",
     "start_time": "2024-10-10T17:24:54.744067Z"
    }
   },
   "cell_type": "code",
   "source": [
    "import numpy as np\n",
    "import cv2\n",
    "from random import randint"
   ],
   "id": "initial_id",
   "outputs": [],
   "execution_count": 1
  },
  {
   "metadata": {
    "ExecuteTime": {
     "end_time": "2024-10-10T17:24:57.558383Z",
     "start_time": "2024-10-10T17:24:54.876651Z"
    }
   },
   "cell_type": "code",
   "source": [
    "img = cv2.imread(\"../resources/images/fuzzy.png\",1)\n",
    "cv2.imshow(\"Original\", img)\n",
    "cv2.waitKey(0)\n",
    "cv2.destroyAllWindows()"
   ],
   "id": "8c6dd408cb4b28d6",
   "outputs": [],
   "execution_count": 2
  },
  {
   "metadata": {
    "ExecuteTime": {
     "end_time": "2024-10-10T17:24:58.618914Z",
     "start_time": "2024-10-10T17:24:57.559388Z"
    }
   },
   "cell_type": "code",
   "source": [
    "gray = cv2.cvtColor(img, cv2.COLOR_BGR2GRAY)\n",
    "blur = cv2.GaussianBlur(gray, (5,5), 0)\n",
    "\n",
    "thresh = cv2.adaptiveThreshold(\n",
    "\tblur, 255,\n",
    "\tcv2.ADAPTIVE_THRESH_GAUSSIAN_C,\n",
    "\tcv2.THRESH_BINARY_INV, 205, 1)\n",
    "cv2.imshow(\"Thresh\", thresh)\n",
    "\n",
    "cv2.waitKey(0)\n",
    "cv2.destroyAllWindows()"
   ],
   "id": "535132b2be3e9869",
   "outputs": [],
   "execution_count": 3
  },
  {
   "metadata": {
    "ExecuteTime": {
     "end_time": "2024-10-10T17:24:58.628607Z",
     "start_time": "2024-10-10T17:24:58.619918Z"
    }
   },
   "cell_type": "code",
   "source": [
    "contours, hierarchy = cv2.findContours(\n",
    "\tthresh, cv2.RETR_TREE, cv2.CHAIN_APPROX_SIMPLE)\n",
    "print(len(contours))"
   ],
   "id": "6d1604d94243ec1e",
   "outputs": [
    {
     "name": "stdout",
     "output_type": "stream",
     "text": [
      "933\n"
     ]
    }
   ],
   "execution_count": 4
  },
  {
   "metadata": {
    "ExecuteTime": {
     "end_time": "2024-10-10T17:24:58.635629Z",
     "start_time": "2024-10-10T17:24:58.630613Z"
    }
   },
   "cell_type": "code",
   "source": [
    "filtered = []\n",
    "for c in contours:\n",
    "\tif cv2.contourArea(c) < 1000:\n",
    "\t\tcontinue\n",
    "\tfiltered.append(c)\n",
    "print(len(filtered))"
   ],
   "id": "56b7b2ed223c7c36",
   "outputs": [
    {
     "name": "stdout",
     "output_type": "stream",
     "text": [
      "3\n"
     ]
    }
   ],
   "execution_count": 5
  },
  {
   "metadata": {
    "ExecuteTime": {
     "end_time": "2024-10-10T17:25:00.031409Z",
     "start_time": "2024-10-10T17:24:58.636634Z"
    }
   },
   "cell_type": "code",
   "source": [
    "objects = np.zeros([img.shape[0], img.shape[1], 3], 'uint8')\n",
    "for c in filtered:\n",
    "\tcol = (randint(0,255), randint(0,255), randint(0,255))\n",
    "\tcv2.drawContours(objects, [c], -1, col, -1)\n",
    "\tarea = cv2.contourArea(c)\n",
    "\tprint(area)\n",
    "\n",
    "cv2.imshow(\"Final\", objects)\n",
    "\n",
    "cv2.waitKey(0)\n",
    "cv2.destroyAllWindows()"
   ],
   "id": "720a0b13bf2b6bbc",
   "outputs": [
    {
     "name": "stdout",
     "output_type": "stream",
     "text": [
      "4942.0\n",
      "29907.5\n",
      "17280.5\n"
     ]
    }
   ],
   "execution_count": 6
  }
 ],
 "metadata": {
  "kernelspec": {
   "display_name": "Python 3",
   "language": "python",
   "name": "python3"
  },
  "language_info": {
   "codemirror_mode": {
    "name": "ipython",
    "version": 2
   },
   "file_extension": ".py",
   "mimetype": "text/x-python",
   "name": "python",
   "nbconvert_exporter": "python",
   "pygments_lexer": "ipython2",
   "version": "2.7.6"
  }
 },
 "nbformat": 4,
 "nbformat_minor": 5
}
