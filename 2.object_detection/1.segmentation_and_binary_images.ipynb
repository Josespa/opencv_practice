{
 "cells": [
  {
   "cell_type": "code",
   "id": "initial_id",
   "metadata": {
    "collapsed": true,
    "ExecuteTime": {
     "end_time": "2024-10-03T22:20:58.343003Z",
     "start_time": "2024-10-03T22:20:58.336103Z"
    }
   },
   "source": [
    "import numpy as np\n",
    "import cv2\n",
    "\n",
    "bw = cv2.imread(\"../resources/images/detect_blob.png\", 0)"
   ],
   "outputs": [],
   "execution_count": 2
  },
  {
   "metadata": {
    "ExecuteTime": {
     "end_time": "2024-10-03T22:21:03.575599Z",
     "start_time": "2024-10-03T22:21:00.748707Z"
    }
   },
   "cell_type": "code",
   "source": [
    "height, width = bw.shape[0:2]\n",
    "cv2.imshow(\"Original BW\",bw)\n",
    "\n",
    "binary = np.zeros([height,width,1],'uint8')\n",
    "\n",
    "thresh = 85\n",
    "\n",
    "for row in range(0,height):\n",
    "\tfor col in range(0, width):\n",
    "\t\tif bw[row][col]>thresh:\n",
    "\t\t\tbinary[row][col]=255\n",
    "\n",
    "cv2.imshow(\"Slow Binary\",binary)\n",
    "\n",
    "ret, thresh = cv2.threshold(bw,thresh,255,cv2.THRESH_BINARY)\n",
    "print(ret)\n",
    "cv2.imshow(\"CV Threshold\",thresh)\n",
    "\n",
    "cv2.waitKey(0)\n",
    "cv2.destroyAllWindows()"
   ],
   "id": "94ac24a00f91e572",
   "outputs": [
    {
     "name": "stdout",
     "output_type": "stream",
     "text": [
      "85.0\n"
     ]
    }
   ],
   "execution_count": 3
  },
  {
   "metadata": {},
   "cell_type": "code",
   "outputs": [],
   "execution_count": null,
   "source": "",
   "id": "f7cbae1b43da041c"
  }
 ],
 "metadata": {
  "kernelspec": {
   "display_name": "Python 3",
   "language": "python",
   "name": "python3"
  },
  "language_info": {
   "codemirror_mode": {
    "name": "ipython",
    "version": 2
   },
   "file_extension": ".py",
   "mimetype": "text/x-python",
   "name": "python",
   "nbconvert_exporter": "python",
   "pygments_lexer": "ipython2",
   "version": "2.7.6"
  }
 },
 "nbformat": 4,
 "nbformat_minor": 5
}
