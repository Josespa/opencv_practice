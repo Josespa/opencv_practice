{
 "cells": [
  {
   "cell_type": "code",
   "id": "initial_id",
   "metadata": {
    "collapsed": true,
    "ExecuteTime": {
     "end_time": "2024-10-08T16:00:23.199144Z",
     "start_time": "2024-10-08T16:00:23.079727Z"
    }
   },
   "source": [
    "import numpy as np\n",
    "import cv2\n"
   ],
   "outputs": [],
   "execution_count": 1
  },
  {
   "metadata": {
    "ExecuteTime": {
     "end_time": "2024-10-08T16:14:02.458657Z",
     "start_time": "2024-10-08T16:14:01.192188Z"
    }
   },
   "cell_type": "code",
   "source": [
    "img = cv2.imread(\"../resources/images/detect_blob.png\", 0)\n",
    "height, width = img.shape[0:2]\n",
    "cv2.imshow(\"Original BW\",img)\n",
    "cv2.waitKey(0)\n",
    "cv2.destroyAllWindows()"
   ],
   "id": "94ac24a00f91e572",
   "outputs": [],
   "execution_count": 17
  },
  {
   "metadata": {},
   "cell_type": "markdown",
   "source": "## Simple thresholding",
   "id": "ca087758329ee4fd"
  },
  {
   "metadata": {
    "ExecuteTime": {
     "end_time": "2024-10-08T16:14:05.360755Z",
     "start_time": "2024-10-08T16:14:03.774285Z"
    }
   },
   "cell_type": "code",
   "source": [
    "binary = np.zeros([height,width,1],'uint8')\n",
    "thresh = 85\n",
    "\n",
    "for row in range(0,height):\n",
    "\tfor col in range(0, width):\n",
    "\t\tif img[row][col]>thresh:\n",
    "\t\t\tbinary[row][col]=255\n",
    "\n",
    "cv2.imshow(\"Slow Binary\",binary)\n",
    "ret, thresh = cv2.threshold(img,thresh,255,cv2.THRESH_BINARY)\n",
    "print(ret)\n",
    "cv2.imshow(\"CV Threshold\",thresh)\n",
    "\n",
    "cv2.waitKey(0)\n",
    "cv2.destroyAllWindows()"
   ],
   "id": "f7cbae1b43da041c",
   "outputs": [
    {
     "name": "stdout",
     "output_type": "stream",
     "text": [
      "85.0\n"
     ]
    }
   ],
   "execution_count": 18
  },
  {
   "metadata": {},
   "cell_type": "markdown",
   "source": "## Adaptive thresholding",
   "id": "c33f1b976c954a9c"
  },
  {
   "metadata": {
    "ExecuteTime": {
     "end_time": "2024-10-08T16:14:22.648191Z",
     "start_time": "2024-10-08T16:14:15.022369Z"
    }
   },
   "cell_type": "code",
   "source": [
    "img = cv2.imread(\"../resources/images/sudoku.png\", 0)\n",
    "cv2.imshow(\"Original\",img)\n",
    "\n",
    "ret, thresh_basic = cv2.threshold(img,70,255,cv2.THRESH_BINARY)\n",
    "cv2.imshow(\"Basic Binary\",thresh_basic)\n",
    "\n",
    "thresh_adapt = cv2.adaptiveThreshold(img, 255, cv2.ADAPTIVE_THRESH_GAUSSIAN_C, cv2.THRESH_BINARY, 115, 1)\n",
    "cv2.imshow(\"Adaptive Threshold\",thresh_adapt)\n",
    "\n",
    "cv2.waitKey(0)\n",
    "cv2.destroyAllWindows()"
   ],
   "id": "e2ab1e2cb808193",
   "outputs": [],
   "execution_count": 19
  },
  {
   "metadata": {},
   "cell_type": "code",
   "outputs": [],
   "execution_count": null,
   "source": "",
   "id": "ca976449e5f47ed4"
  }
 ],
 "metadata": {
  "kernelspec": {
   "display_name": "Python 3",
   "language": "python",
   "name": "python3"
  },
  "language_info": {
   "codemirror_mode": {
    "name": "ipython",
    "version": 2
   },
   "file_extension": ".py",
   "mimetype": "text/x-python",
   "name": "python",
   "nbconvert_exporter": "python",
   "pygments_lexer": "ipython2",
   "version": "2.7.6"
  }
 },
 "nbformat": 4,
 "nbformat_minor": 5
}
