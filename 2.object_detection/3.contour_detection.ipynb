{
 "cells": [
  {
   "cell_type": "code",
   "id": "initial_id",
   "metadata": {
    "collapsed": true,
    "ExecuteTime": {
     "end_time": "2024-10-08T16:39:37.336705Z",
     "start_time": "2024-10-08T16:39:35.372435Z"
    }
   },
   "source": [
    "import numpy as np\n",
    "import cv2"
   ],
   "outputs": [],
   "execution_count": 6
  },
  {
   "metadata": {},
   "cell_type": "code",
   "outputs": [],
   "execution_count": null,
   "source": [
    "img = cv2.imread(\"../resources/images/detect_blob.png\",1)\n",
    "cv2.imshow(\"Original\", img)\n",
    "cv2.waitKey(0)\n",
    "cv2.destroyAllWindows()"
   ],
   "id": "6d3efba874678e61"
  },
  {
   "metadata": {
    "ExecuteTime": {
     "end_time": "2024-10-08T16:39:39.504460Z",
     "start_time": "2024-10-08T16:39:37.974537Z"
    }
   },
   "cell_type": "code",
   "source": [
    "#Threshold\n",
    "gray = cv2.cvtColor(img, cv2.COLOR_RGB2GRAY)\n",
    "thresh = cv2.adaptiveThreshold(gray, 255, cv2.ADAPTIVE_THRESH_GAUSSIAN_C, cv2.THRESH_BINARY, 115, 1)\n",
    "cv2.imshow(\"Binary\", thresh)\n",
    "\n",
    "contours, hierarchy = cv2.findContours(thresh, cv2.RETR_TREE, cv2.CHAIN_APPROX_SIMPLE)\n",
    "\n",
    "img2 = img.copy()\n",
    "index = -1\n",
    "thickness = 4\n",
    "color = (255, 0, 255)\n",
    "\n",
    "cv2.drawContours(img2, contours, index, color, thickness)\n",
    "cv2.imshow(\"Contours\",img2)\n",
    "\n",
    "cv2.waitKey(0)\n",
    "cv2.destroyAllWindows()"
   ],
   "id": "e69cb5e239b0fd58",
   "outputs": [],
   "execution_count": 7
  },
  {
   "metadata": {},
   "cell_type": "markdown",
   "source": "## Area, perimeter and centroid",
   "id": "39a92c70ff8f37dc"
  },
  {
   "metadata": {
    "ExecuteTime": {
     "end_time": "2024-10-08T16:46:21.895226Z",
     "start_time": "2024-10-08T16:46:19.711794Z"
    }
   },
   "cell_type": "code",
   "source": [
    "objects = np.zeros([img.shape[0], img.shape[1], 3], 'uint8')\n",
    "\n",
    "for c in contours:\n",
    "\tcv2.drawContours(objects, [c], -1, color, -1)\n",
    "\n",
    "\tarea = cv2.contourArea(c)\n",
    "\tperimeter = cv2.arcLength(c, True)\n",
    "\n",
    "\tM = cv2.moments(c)\n",
    "\tcx = int(M['m10'] / M['m00'])\n",
    "\tcy = int(M['m01'] / M['m00'])\n",
    "\n",
    "\tcv2.circle(objects, (cx, cy), 4, (0, 0, 255), -1)\n",
    "\n",
    "\tprint(f\"Area: {area}, perimeter: {perimeter}\")\n",
    "\n",
    "cv2.imshow(\"Contours\", objects)\n",
    "\n",
    "cv2.waitKey(0)\n",
    "cv2.destroyAllWindows()"
   ],
   "id": "7ded2612c31e3e6f",
   "outputs": [
    {
     "name": "stdout",
     "output_type": "stream",
     "text": [
      "Area: 86.5, perimeter: 45.55634891986847\n",
      "Area: 959.5, perimeter: 251.8406196832657\n",
      "Area: 13091.5, perimeter: 754.0416301488876\n",
      "Area: 10069.5, perimeter: 401.41421353816986\n",
      "Area: 7780.0, perimeter: 329.22034430503845\n",
      "Area: 4160.0, perimeter: 258.0\n",
      "Area: 1672.0, perimeter: 160.48528122901917\n",
      "Area: 14515.0, perimeter: 1225.768675327301\n",
      "Area: 6357.0, perimeter: 446.9116872549057\n",
      "Area: 7718.0, perimeter: 484.8284270763397\n",
      "Area: 4592.5, perimeter: 502.0315263271332\n",
      "Area: 5014.0, perimeter: 357.2792183160782\n",
      "Area: 5019.0, perimeter: 444.3675308227539\n",
      "Area: 8829.0, perimeter: 450.5929263830185\n",
      "Area: 108.0, perimeter: 41.79898953437805\n",
      "Area: 551.5, perimeter: 93.41421353816986\n",
      "Area: 2707.5, perimeter: 194.75230765342712\n",
      "Area: 1644.5, perimeter: 152.1248904466629\n",
      "Area: 767.0, perimeter: 105.74011433124542\n",
      "Area: 3501.5, perimeter: 251.0710676908493\n",
      "Area: 8556.0, perimeter: 345.70562493801117\n",
      "Area: 8868.0, perimeter: 378.8284270763397\n",
      "Area: 865.0, perimeter: 185.4558435678482\n",
      "Area: 1482.0, perimeter: 244.16652035713196\n",
      "Area: 747.0, perimeter: 102.9116872549057\n",
      "Area: 1638.0, perimeter: 152.36753034591675\n",
      "Area: 1.0, perimeter: 4114.82842707634\n"
     ]
    }
   ],
   "execution_count": 13
  },
  {
   "metadata": {},
   "cell_type": "code",
   "outputs": [],
   "execution_count": null,
   "source": "",
   "id": "3c2e374ceb7d2d5f"
  }
 ],
 "metadata": {
  "kernelspec": {
   "display_name": "Python 3",
   "language": "python",
   "name": "python3"
  },
  "language_info": {
   "codemirror_mode": {
    "name": "ipython",
    "version": 2
   },
   "file_extension": ".py",
   "mimetype": "text/x-python",
   "name": "python",
   "nbconvert_exporter": "python",
   "pygments_lexer": "ipython2",
   "version": "2.7.6"
  }
 },
 "nbformat": 4,
 "nbformat_minor": 5
}
